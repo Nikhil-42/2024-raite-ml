{
 "cells": [
  {
   "cell_type": "code",
   "execution_count": 9,
   "metadata": {},
   "outputs": [],
   "source": [
    "# Import necessary libraries\n",
    "import os\n",
    "import cv2\n",
    "import numpy as np\n",
    "import matplotlib.pyplot as plt\n",
    "import ipywidgets as widgets\n",
    "from IPython.display import display"
   ]
  },
  {
   "cell_type": "code",
   "execution_count": 11,
   "metadata": {},
   "outputs": [],
   "source": [
    "# Set your dataset directory\n",
    "DATASET_DIR = 'data/ugv_dataset_v7/train'  # Update this to your dataset path\n",
    "images_dir = os.path.join(DATASET_DIR, 'images')\n",
    "labels_dir = os.path.join(DATASET_DIR, 'labels')"
   ]
  },
  {
   "cell_type": "code",
   "execution_count": 12,
   "metadata": {},
   "outputs": [
    {
     "data": {
      "application/vnd.jupyter.widget-view+json": {
       "model_id": "b9dfe4e94e2840b4bad61c235a902326",
       "version_major": 2,
       "version_minor": 0
      },
      "text/plain": [
       "interactive(children=(IntSlider(value=0, description='Image Index', max=2142), Output()), _dom_classes=('widge…"
      ]
     },
     "metadata": {},
     "output_type": "display_data"
    },
    {
     "data": {
      "application/vnd.jupyter.widget-view+json": {
       "model_id": "790c43ccb6064d3eba5b3f277a6bdae9",
       "version_major": 2,
       "version_minor": 0
      },
      "text/plain": [
       "Output()"
      ]
     },
     "metadata": {},
     "output_type": "display_data"
    }
   ],
   "source": [
    "# List all image files\n",
    "image_files = [f for f in os.listdir(images_dir) if f.endswith(('.jpg', '.png'))]\n",
    "image_files.sort()  # Sort to maintain order\n",
    "\n",
    "# Create an output widget\n",
    "output = widgets.Output()\n",
    "\n",
    "# Define a color map for different classes\n",
    "color_map = {\n",
    "    0: (255, 0, 0),    # Red for class 0\n",
    "    1: (0, 255, 0),    # Green for class 1\n",
    "    2: (0, 0, 255),    # Blue for class 2\n",
    "    3: (255, 255, 0),  # Cyan for class 3\n",
    "    4: (255, 0, 255),  # Magenta for class 4\n",
    "    5: (0, 255, 255)   # Yellow for class 5\n",
    "    # Add more colors as needed for additional classes\n",
    "}\n",
    "\n",
    "# Function to display an image with annotations\n",
    "def display_image(index):\n",
    "    with output:\n",
    "        output.clear_output(True)\n",
    "\n",
    "        img_path = os.path.join(images_dir, image_files[index])\n",
    "        label_path = os.path.join(labels_dir, image_files[index].replace('.jpg', '.txt').replace('.png', '.txt'))\n",
    "        \n",
    "        # Read image\n",
    "        image = cv2.imread(img_path)\n",
    "        image = cv2.cvtColor(image, cv2.COLOR_BGR2RGB)  # Convert to RGB for displaying\n",
    "\n",
    "        # Read labels\n",
    "        boxes = []\n",
    "        if os.path.exists(label_path):\n",
    "            with open(label_path, 'r') as f:\n",
    "                for line in f:\n",
    "                    class_id, x_center, y_center, width, height = map(float, line.strip().split())\n",
    "                    boxes.append((class_id, x_center, y_center, width, height))\n",
    "        \n",
    "        # Calculate thickness based on image resolution\n",
    "        height, width, _ = image.shape\n",
    "        thickness = max(2, int(height * 0.005))  # Set thickness to 0.5% of image height (minimum of 1)\n",
    "\n",
    "        # Draw boxes on the image\n",
    "        for box in boxes:\n",
    "            class_id, x_center, y_center, width, height = box\n",
    "            x1 = int((x_center - width / 2) * image.shape[1])\n",
    "            y1 = int((y_center - height / 2) * image.shape[0])\n",
    "            x2 = int((x_center + width / 2) * image.shape[1])\n",
    "            y2 = int((y_center + height / 2) * image.shape[0])\n",
    "            color = color_map.get(int(class_id), (255, 255, 255))  # Default to white if class not in map\n",
    "            cv2.rectangle(image, (x1, y1), (x2, y2), color, thickness)\n",
    "            cv2.putText(image, str(int(class_id)), (x1, y1 - 10), cv2.FONT_HERSHEY_SIMPLEX, 0.5, color, thickness)\n",
    "\n",
    "        plt.imshow(image)\n",
    "        plt.axis('off')\n",
    "        plt.title(f\"Image: {image_files[index]}\")\n",
    "        plt.show()\n",
    "\n",
    "# Create a slider to browse through images\n",
    "image_slider = widgets.IntSlider(value=0, min=0, max=len(image_files)-1, step=1, description='Image Index')\n",
    "\n",
    "# Set up an interactive output\n",
    "interactive_display = widgets.interactive(display_image, index=image_slider)\n",
    "\n",
    "# Display the slider and output area\n",
    "display(interactive_display, output)\n"
   ]
  }
 ],
 "metadata": {
  "kernelspec": {
   "display_name": "pytorch",
   "language": "python",
   "name": "python3"
  },
  "language_info": {
   "codemirror_mode": {
    "name": "ipython",
    "version": 3
   },
   "file_extension": ".py",
   "mimetype": "text/x-python",
   "name": "python",
   "nbconvert_exporter": "python",
   "pygments_lexer": "ipython3",
   "version": "3.12.7"
  }
 },
 "nbformat": 4,
 "nbformat_minor": 2
}
